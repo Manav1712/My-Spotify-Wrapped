{
 "cells": [
  {
   "cell_type": "code",
   "execution_count": 169,
   "id": "2d8af147",
   "metadata": {},
   "outputs": [
    {
     "name": "stdout",
     "output_type": "stream",
     "text": [
      "Requirement already satisfied: gspread in ./opt/anaconda3/lib/python3.8/site-packages (5.2.0)\n",
      "Requirement already satisfied: google-auth-oauthlib>=0.4.1 in ./opt/anaconda3/lib/python3.8/site-packages (from gspread) (0.5.1)\n",
      "Requirement already satisfied: google-auth>=1.12.0 in ./opt/anaconda3/lib/python3.8/site-packages (from gspread) (2.6.2)\n",
      "Requirement already satisfied: pyasn1-modules>=0.2.1 in ./opt/anaconda3/lib/python3.8/site-packages (from google-auth>=1.12.0->gspread) (0.2.8)\n",
      "Requirement already satisfied: cachetools<6.0,>=2.0.0 in ./opt/anaconda3/lib/python3.8/site-packages (from google-auth>=1.12.0->gspread) (5.0.0)\n",
      "Requirement already satisfied: six>=1.9.0 in ./opt/anaconda3/lib/python3.8/site-packages (from google-auth>=1.12.0->gspread) (1.15.0)\n",
      "Requirement already satisfied: rsa<5,>=3.1.4 in ./opt/anaconda3/lib/python3.8/site-packages (from google-auth>=1.12.0->gspread) (4.8)\n",
      "Requirement already satisfied: requests-oauthlib>=0.7.0 in ./opt/anaconda3/lib/python3.8/site-packages (from google-auth-oauthlib>=0.4.1->gspread) (1.3.1)\n",
      "Requirement already satisfied: pyasn1<0.5.0,>=0.4.6 in ./opt/anaconda3/lib/python3.8/site-packages (from pyasn1-modules>=0.2.1->google-auth>=1.12.0->gspread) (0.4.8)\n",
      "Requirement already satisfied: oauthlib>=3.0.0 in ./opt/anaconda3/lib/python3.8/site-packages (from requests-oauthlib>=0.7.0->google-auth-oauthlib>=0.4.1->gspread) (3.2.0)\n",
      "Requirement already satisfied: requests>=2.0.0 in ./opt/anaconda3/lib/python3.8/site-packages (from requests-oauthlib>=0.7.0->google-auth-oauthlib>=0.4.1->gspread) (2.25.1)\n",
      "Requirement already satisfied: idna<3,>=2.5 in ./opt/anaconda3/lib/python3.8/site-packages (from requests>=2.0.0->requests-oauthlib>=0.7.0->google-auth-oauthlib>=0.4.1->gspread) (2.10)\n",
      "Requirement already satisfied: chardet<5,>=3.0.2 in ./opt/anaconda3/lib/python3.8/site-packages (from requests>=2.0.0->requests-oauthlib>=0.7.0->google-auth-oauthlib>=0.4.1->gspread) (4.0.0)\n",
      "Requirement already satisfied: urllib3<1.27,>=1.21.1 in ./opt/anaconda3/lib/python3.8/site-packages (from requests>=2.0.0->requests-oauthlib>=0.7.0->google-auth-oauthlib>=0.4.1->gspread) (1.26.4)\n",
      "Requirement already satisfied: certifi>=2017.4.17 in ./opt/anaconda3/lib/python3.8/site-packages (from requests>=2.0.0->requests-oauthlib>=0.7.0->google-auth-oauthlib>=0.4.1->gspread) (2020.12.5)\n",
      "Note: you may need to restart the kernel to use updated packages.\n"
     ]
    }
   ],
   "source": [
    "pip install gspread"
   ]
  },
  {
   "cell_type": "code",
   "execution_count": 170,
   "id": "1733d227",
   "metadata": {},
   "outputs": [],
   "source": [
    "#importing all the packages\n",
    "import requests\n",
    "import spotipy\n",
    "from spotipy.oauth2 import SpotifyOAuth\n",
    "import pandas as pd\n",
    "import numpy as np\n",
    "import gspread"
   ]
  },
  {
   "cell_type": "code",
   "execution_count": 171,
   "id": "54019b31",
   "metadata": {},
   "outputs": [],
   "source": [
    "#Assigning the values of the Client ID and Client Secret for Authorization\n",
    "SPOTIPY_CLIENT_ID= '9c36fb5550db4a1e92e335f939b7ee7d'\n",
    "SPOTIPY_CLIENT_SECRET = '2b5b2872160243e0a8ad5031f12a699e'\n",
    "SPOTIPY_REDIRECT_URI= 'http://127.0.0.1.9090'\n",
    "SCOPE = \"user-top-read\""
   ]
  },
  {
   "cell_type": "code",
   "execution_count": 172,
   "id": "5c51d6df",
   "metadata": {},
   "outputs": [],
   "source": [
    "#Authorizing the notebook to connect to Spotify and access user data\n",
    "sp = spotipy.Spotify(auth_manager=SpotifyOAuth(client_id=SPOTIPY_CLIENT_ID, client_secret=SPOTIPY_CLIENT_SECRET, redirect_uri=SPOTIPY_REDIRECT_URI, scope=SCOPE))"
   ]
  },
  {
   "cell_type": "code",
   "execution_count": 173,
   "id": "701e5c69",
   "metadata": {},
   "outputs": [],
   "source": [
    "results = sp.current_user_top_tracks()"
   ]
  },
  {
   "cell_type": "code",
   "execution_count": 174,
   "id": "883b94dc",
   "metadata": {},
   "outputs": [],
   "source": [
    "#Getting the top 20 tracks\n",
    "top_tracks_short = sp.current_user_top_tracks(limit=20, offset=0, time_range=\"short_term\" )"
   ]
  },
  {
   "cell_type": "code",
   "execution_count": 175,
   "id": "b18616cb",
   "metadata": {},
   "outputs": [],
   "source": [
    "#Getting the ID of each song, this will be used to access the features of each song\n",
    "def get_track_ids(time_frame):\n",
    "    track_ids = []\n",
    "    for song in time_frame['items']:\n",
    "        track_ids.append(song['id'])\n",
    "    return track_ids"
   ]
  },
  {
   "cell_type": "code",
   "execution_count": 176,
   "id": "478f2988",
   "metadata": {},
   "outputs": [
    {
     "data": {
      "text/plain": [
       "['01gNiOqg8u7vT90uVgOVmz',\n",
       " '3Zcv9IeYgCvEhxFTfsduaQ',\n",
       " '5IaHrVsrferBYDm0bDyABy',\n",
       " '40iJIUlhi6renaREYGeIDS',\n",
       " '15hJmqqEtASVXl6sM7i4UF',\n",
       " '4iYRa2btalAzPZoSYfROqF',\n",
       " '7KZ5MMVgBVox9ycroB2UrI',\n",
       " '6GNG0YQixWuLE0M5FtrRxY',\n",
       " '6BJbOXDlgVAXSaq6wYFYT2',\n",
       " '2AGUFka8kBWCM47h5uTlDb',\n",
       " '2OsDoAzo5SGq10qwmKSQBv',\n",
       " '7ejepEh5DJ79YI6owGRfkk',\n",
       " '1BpKJw4RZxaFB88NE5uxXf',\n",
       " '2QqJTIlGKRLJC3onkavYEz',\n",
       " '3eekarcy7kvN4yt5ZFzltW',\n",
       " '4KYS9GK68yeuUJ8vJfPxrq',\n",
       " '29TPjc8wxfz4XMn21O7VsZ',\n",
       " '1e1JKLEDKP7hEQzJfNAgPl',\n",
       " '4R67rQNSbbsR4TdUVOIdez',\n",
       " '2cYqizR4lgvp4Qu6IQ3qGN']"
      ]
     },
     "execution_count": 176,
     "metadata": {},
     "output_type": "execute_result"
    }
   ],
   "source": [
    "#Test run of the function\n",
    "track_ids = get_track_ids(top_tracks_short)\n",
    "track_ids"
   ]
  },
  {
   "cell_type": "code",
   "execution_count": 177,
   "id": "cbdcbfaa",
   "metadata": {},
   "outputs": [],
   "source": [
    "track_id = '40iJIUlhi6renaREYGeIDS'"
   ]
  },
  {
   "cell_type": "code",
   "execution_count": 178,
   "id": "2b4ecaea",
   "metadata": {},
   "outputs": [],
   "source": [
    "#Getting the features of each track using the ID \n",
    "def get_track_features(id):\n",
    "    meta = sp.track(id)\n",
    "    name = meta['name']\n",
    "    album = meta['album']['name']\n",
    "    artist = meta['album']['artists'][0]['name']\n",
    "    spotify_url = meta['external_urls']['spotify']\n",
    "    album_cover = meta['album']['images'][0]['url']\n",
    "    track_info = [name, album, artist, spotify_url, album_cover]\n",
    "    return track_info"
   ]
  },
  {
   "cell_type": "code",
   "execution_count": 179,
   "id": "f523cbe7",
   "metadata": {},
   "outputs": [
    {
     "data": {
      "text/plain": [
       "['Fair Trade (with Travis Scott)',\n",
       " 'Certified Lover Boy',\n",
       " 'Drake',\n",
       " 'https://open.spotify.com/track/40iJIUlhi6renaREYGeIDS',\n",
       " 'https://i.scdn.co/image/ab67616d0000b273cd945b4e3de57edd28481a3f']"
      ]
     },
     "execution_count": 179,
     "metadata": {},
     "output_type": "execute_result"
    }
   ],
   "source": [
    "get_track_features(track_id)"
   ]
  },
  {
   "cell_type": "code",
   "execution_count": 180,
   "id": "964def12",
   "metadata": {},
   "outputs": [],
   "source": [
    "tracks = []\n",
    "for i in np.arange(len(track_ids)):\n",
    "    track = get_track_features(track_ids[i])\n",
    "    tracks.append(track)"
   ]
  },
  {
   "cell_type": "code",
   "execution_count": 181,
   "id": "09801978",
   "metadata": {},
   "outputs": [
    {
     "data": {
      "text/plain": [
       "[[\"Whole Lotta Lovin'\",\n",
       "  \"Whole Lotta Lovin'\",\n",
       "  'Mustard',\n",
       "  'https://open.spotify.com/track/01gNiOqg8u7vT90uVgOVmz',\n",
       "  'https://i.scdn.co/image/ab67616d0000b2730be52c4adc81385794b1dd80'],\n",
       " ['Lil Boat',\n",
       "  '88GLAM2',\n",
       "  '88GLAM',\n",
       "  'https://open.spotify.com/track/3Zcv9IeYgCvEhxFTfsduaQ',\n",
       "  'https://i.scdn.co/image/ab67616d0000b27357eb221f1ac08ff9e6abb518'],\n",
       " ['Taste (feat. Offset)',\n",
       "  'Taste (feat. Offset)',\n",
       "  'Tyga',\n",
       "  'https://open.spotify.com/track/5IaHrVsrferBYDm0bDyABy',\n",
       "  'https://i.scdn.co/image/ab67616d0000b273a4d73b32e40487605c73cffe'],\n",
       " ['Fair Trade (with Travis Scott)',\n",
       "  'Certified Lover Boy',\n",
       "  'Drake',\n",
       "  'https://open.spotify.com/track/40iJIUlhi6renaREYGeIDS',\n",
       "  'https://i.scdn.co/image/ab67616d0000b273cd945b4e3de57edd28481a3f'],\n",
       " ['trademark usa',\n",
       "  'The Melodic Blue',\n",
       "  'Baby Keem',\n",
       "  'https://open.spotify.com/track/15hJmqqEtASVXl6sM7i4UF',\n",
       "  'https://i.scdn.co/image/ab67616d0000b2731bfa23b13d0504fb90c37b39'],\n",
       " ['XXX. FEAT. U2.',\n",
       "  'DAMN.',\n",
       "  'Kendrick Lamar',\n",
       "  'https://open.spotify.com/track/4iYRa2btalAzPZoSYfROqF',\n",
       "  'https://i.scdn.co/image/ab67616d0000b2738b52c6b9bc4e43d873869699'],\n",
       " ['CAROUSEL',\n",
       "  'ASTROWORLD',\n",
       "  'Travis Scott',\n",
       "  'https://open.spotify.com/track/7KZ5MMVgBVox9ycroB2UrI',\n",
       "  'https://i.scdn.co/image/ab67616d0000b273072e9faef2ef7b6db63834a3'],\n",
       " ['Off The Map',\n",
       "  'After Me',\n",
       "  'SoFaygo',\n",
       "  'https://open.spotify.com/track/6GNG0YQixWuLE0M5FtrRxY',\n",
       "  'https://i.scdn.co/image/ab67616d0000b273338d845a67c815d9843f39d1'],\n",
       " ['NC-17',\n",
       "  'ASTROWORLD',\n",
       "  'Travis Scott',\n",
       "  'https://open.spotify.com/track/6BJbOXDlgVAXSaq6wYFYT2',\n",
       "  'https://i.scdn.co/image/ab67616d0000b273072e9faef2ef7b6db63834a3'],\n",
       " ['lose',\n",
       "  'Birds In The Trap Sing McKnight',\n",
       "  'Travis Scott',\n",
       "  'https://open.spotify.com/track/2AGUFka8kBWCM47h5uTlDb',\n",
       "  'https://i.scdn.co/image/ab67616d0000b273f54b99bf27cda88f4a7403ce'],\n",
       " ['Jet Lag (feat. Young Scooter)',\n",
       "  'Future & Juice WRLD Present... WRLD ON DRUGS',\n",
       "  'Future',\n",
       "  'https://open.spotify.com/track/2OsDoAzo5SGq10qwmKSQBv',\n",
       "  'https://i.scdn.co/image/ab67616d0000b273644c510e8d4c02ae69028297'],\n",
       " ['New N3on',\n",
       "  'Whole Lotta Red',\n",
       "  'Playboi Carti',\n",
       "  'https://open.spotify.com/track/7ejepEh5DJ79YI6owGRfkk',\n",
       "  'https://i.scdn.co/image/ab67616d0000b27398ea0e689c91f8fea726d9bb'],\n",
       " ['ILoveUIHateU',\n",
       "  'Whole Lotta Red',\n",
       "  'Playboi Carti',\n",
       "  'https://open.spotify.com/track/1BpKJw4RZxaFB88NE5uxXf',\n",
       "  'https://i.scdn.co/image/ab67616d0000b27398ea0e689c91f8fea726d9bb'],\n",
       " ['Flex (feat. Juice WRLD)',\n",
       "  'THE GOAT',\n",
       "  'Polo G',\n",
       "  'https://open.spotify.com/track/2QqJTIlGKRLJC3onkavYEz',\n",
       "  'https://i.scdn.co/image/ab67616d0000b273339f780dfdbc38558ea0761d'],\n",
       " ['HIGHEST IN THE ROOM',\n",
       "  'HIGHEST IN THE ROOM',\n",
       "  'Travis Scott',\n",
       "  'https://open.spotify.com/track/3eekarcy7kvN4yt5ZFzltW',\n",
       "  'https://i.scdn.co/image/ab67616d0000b273e42b5fea4ac4c3d6328b622b'],\n",
       " ['WHO? WHAT!',\n",
       "  'ASTROWORLD',\n",
       "  'Travis Scott',\n",
       "  'https://open.spotify.com/track/4KYS9GK68yeuUJ8vJfPxrq',\n",
       "  'https://i.scdn.co/image/ab67616d0000b273072e9faef2ef7b6db63834a3'],\n",
       " ['Sky',\n",
       "  'Whole Lotta Red',\n",
       "  'Playboi Carti',\n",
       "  'https://open.spotify.com/track/29TPjc8wxfz4XMn21O7VsZ',\n",
       "  'https://i.scdn.co/image/ab67616d0000b27398ea0e689c91f8fea726d9bb'],\n",
       " ['Magnolia',\n",
       "  'Playboi Carti',\n",
       "  'Playboi Carti',\n",
       "  'https://open.spotify.com/track/1e1JKLEDKP7hEQzJfNAgPl',\n",
       "  'https://i.scdn.co/image/ab67616d0000b273e31a279d267f3b3d8912e6f1'],\n",
       " ['ESCAPE PLAN',\n",
       "  'ESCAPE PLAN / MAFIA',\n",
       "  'Travis Scott',\n",
       "  'https://open.spotify.com/track/4R67rQNSbbsR4TdUVOIdez',\n",
       "  'https://i.scdn.co/image/ab67616d0000b273eba68473429f9f4eaf1943d0'],\n",
       " ['BUTTERFLY EFFECT',\n",
       "  'ASTROWORLD',\n",
       "  'Travis Scott',\n",
       "  'https://open.spotify.com/track/2cYqizR4lgvp4Qu6IQ3qGN',\n",
       "  'https://i.scdn.co/image/ab67616d0000b273072e9faef2ef7b6db63834a3']]"
      ]
     },
     "execution_count": 181,
     "metadata": {},
     "output_type": "execute_result"
    }
   ],
   "source": [
    "tracks"
   ]
  },
  {
   "cell_type": "code",
   "execution_count": 182,
   "id": "6f8af497",
   "metadata": {},
   "outputs": [
    {
     "data": {
      "text/html": [
       "<div>\n",
       "<style scoped>\n",
       "    .dataframe tbody tr th:only-of-type {\n",
       "        vertical-align: middle;\n",
       "    }\n",
       "\n",
       "    .dataframe tbody tr th {\n",
       "        vertical-align: top;\n",
       "    }\n",
       "\n",
       "    .dataframe thead th {\n",
       "        text-align: right;\n",
       "    }\n",
       "</style>\n",
       "<table border=\"1\" class=\"dataframe\">\n",
       "  <thead>\n",
       "    <tr style=\"text-align: right;\">\n",
       "      <th></th>\n",
       "      <th>name</th>\n",
       "      <th>album</th>\n",
       "      <th>artist</th>\n",
       "      <th>spotify_url</th>\n",
       "      <th>album_cover</th>\n",
       "    </tr>\n",
       "  </thead>\n",
       "  <tbody>\n",
       "    <tr>\n",
       "      <th>0</th>\n",
       "      <td>Whole Lotta Lovin'</td>\n",
       "      <td>Whole Lotta Lovin'</td>\n",
       "      <td>Mustard</td>\n",
       "      <td>https://open.spotify.com/track/01gNiOqg8u7vT90...</td>\n",
       "      <td>https://i.scdn.co/image/ab67616d0000b2730be52c...</td>\n",
       "    </tr>\n",
       "    <tr>\n",
       "      <th>1</th>\n",
       "      <td>Lil Boat</td>\n",
       "      <td>88GLAM2</td>\n",
       "      <td>88GLAM</td>\n",
       "      <td>https://open.spotify.com/track/3Zcv9IeYgCvEhxF...</td>\n",
       "      <td>https://i.scdn.co/image/ab67616d0000b27357eb22...</td>\n",
       "    </tr>\n",
       "    <tr>\n",
       "      <th>2</th>\n",
       "      <td>Taste (feat. Offset)</td>\n",
       "      <td>Taste (feat. Offset)</td>\n",
       "      <td>Tyga</td>\n",
       "      <td>https://open.spotify.com/track/5IaHrVsrferBYDm...</td>\n",
       "      <td>https://i.scdn.co/image/ab67616d0000b273a4d73b...</td>\n",
       "    </tr>\n",
       "    <tr>\n",
       "      <th>3</th>\n",
       "      <td>Fair Trade (with Travis Scott)</td>\n",
       "      <td>Certified Lover Boy</td>\n",
       "      <td>Drake</td>\n",
       "      <td>https://open.spotify.com/track/40iJIUlhi6renaR...</td>\n",
       "      <td>https://i.scdn.co/image/ab67616d0000b273cd945b...</td>\n",
       "    </tr>\n",
       "    <tr>\n",
       "      <th>4</th>\n",
       "      <td>trademark usa</td>\n",
       "      <td>The Melodic Blue</td>\n",
       "      <td>Baby Keem</td>\n",
       "      <td>https://open.spotify.com/track/15hJmqqEtASVXl6...</td>\n",
       "      <td>https://i.scdn.co/image/ab67616d0000b2731bfa23...</td>\n",
       "    </tr>\n",
       "  </tbody>\n",
       "</table>\n",
       "</div>"
      ],
      "text/plain": [
       "                             name                 album     artist  \\\n",
       "0              Whole Lotta Lovin'    Whole Lotta Lovin'    Mustard   \n",
       "1                        Lil Boat               88GLAM2     88GLAM   \n",
       "2            Taste (feat. Offset)  Taste (feat. Offset)       Tyga   \n",
       "3  Fair Trade (with Travis Scott)   Certified Lover Boy      Drake   \n",
       "4                   trademark usa      The Melodic Blue  Baby Keem   \n",
       "\n",
       "                                         spotify_url  \\\n",
       "0  https://open.spotify.com/track/01gNiOqg8u7vT90...   \n",
       "1  https://open.spotify.com/track/3Zcv9IeYgCvEhxF...   \n",
       "2  https://open.spotify.com/track/5IaHrVsrferBYDm...   \n",
       "3  https://open.spotify.com/track/40iJIUlhi6renaR...   \n",
       "4  https://open.spotify.com/track/15hJmqqEtASVXl6...   \n",
       "\n",
       "                                         album_cover  \n",
       "0  https://i.scdn.co/image/ab67616d0000b2730be52c...  \n",
       "1  https://i.scdn.co/image/ab67616d0000b27357eb22...  \n",
       "2  https://i.scdn.co/image/ab67616d0000b273a4d73b...  \n",
       "3  https://i.scdn.co/image/ab67616d0000b273cd945b...  \n",
       "4  https://i.scdn.co/image/ab67616d0000b2731bfa23...  "
      ]
     },
     "execution_count": 182,
     "metadata": {},
     "output_type": "execute_result"
    }
   ],
   "source": [
    "df = pd.DataFrame(tracks, columns = ['name', 'album', 'artist', 'spotify_url', 'album_cover'])\n",
    "df.head(5)\n"
   ]
  },
  {
   "cell_type": "code",
   "execution_count": 183,
   "id": "959a1fa0",
   "metadata": {},
   "outputs": [],
   "source": [
    "#Using the GSpread authorization info to transfer Spotify data onto a spreadsheet\n",
    "gc = gspread.service_account(filename = '/Users/manavjairam/Documents/spotify-wrapped-344523-1e0d95e4f3c9.json')"
   ]
  },
  {
   "cell_type": "code",
   "execution_count": 184,
   "id": "99f57d86",
   "metadata": {},
   "outputs": [],
   "source": [
    "sh = gc.open(\"My Spotify Wrapped\")"
   ]
  },
  {
   "cell_type": "code",
   "execution_count": 185,
   "id": "fcb25be4",
   "metadata": {},
   "outputs": [],
   "source": [
    "worksheet = sh.worksheet(\"short_term\")"
   ]
  },
  {
   "cell_type": "code",
   "execution_count": 186,
   "id": "eebc0c0e",
   "metadata": {},
   "outputs": [],
   "source": [
    "val = worksheet.acell('B5').value"
   ]
  },
  {
   "cell_type": "code",
   "execution_count": 187,
   "id": "1aa60761",
   "metadata": {},
   "outputs": [
    {
     "name": "stdout",
     "output_type": "stream",
     "text": [
      "Certified Lover Boy\n"
     ]
    }
   ],
   "source": [
    "print(val)"
   ]
  },
  {
   "cell_type": "code",
   "execution_count": 188,
   "id": "1ed46368",
   "metadata": {},
   "outputs": [],
   "source": [
    "#Function to insert the data into the sheet\n",
    "def insert_to_gsheet(track_ids):\n",
    "    # loop over track ids \n",
    "    tracks = []\n",
    "    for i in range(len(track_ids)):\n",
    "        track = get_track_features(track_ids[i])\n",
    "        tracks.append(track)\n",
    "    # create dataset\n",
    "    df = pd.DataFrame(tracks, columns = ['name', 'album', 'artist', 'spotify_url', 'album_cover'])\n",
    "    # insert into google sheet\n",
    "    gc = gspread.service_account(filename= '/Users/manavjairam/Documents/spotify-wrapped-344523-1e0d95e4f3c9.json')\n",
    "    sh = gc.open('My Spotify Wrapped')\n",
    "    worksheet = sh.worksheet(f'{time_period}')\n",
    "    worksheet.update([df.columns.values.tolist()] + df.values.tolist())\n",
    "    print('Done')"
   ]
  },
  {
   "cell_type": "code",
   "execution_count": 189,
   "id": "5c691404",
   "metadata": {},
   "outputs": [],
   "source": [
    "time_ranges = ['short_term','medium_term','long_term']"
   ]
  },
  {
   "cell_type": "code",
   "execution_count": 190,
   "id": "4b48281d",
   "metadata": {},
   "outputs": [
    {
     "name": "stdout",
     "output_type": "stream",
     "text": [
      "Done\n",
      "Done\n",
      "Done\n"
     ]
    }
   ],
   "source": [
    "#Inserting data into different tabs of the spreadsheet\n",
    "for time_period in time_ranges:\n",
    "    top_tracks = sp.current_user_top_tracks(limit = 20, offset = 0, time_range = time_period)\n",
    "    track_ids = get_track_ids(top_tracks)\n",
    "    insert_to_gsheet(track_ids)"
   ]
  }
 ],
 "metadata": {
  "kernelspec": {
   "display_name": "Python 3",
   "language": "python",
   "name": "python3"
  },
  "language_info": {
   "codemirror_mode": {
    "name": "ipython",
    "version": 3
   },
   "file_extension": ".py",
   "mimetype": "text/x-python",
   "name": "python",
   "nbconvert_exporter": "python",
   "pygments_lexer": "ipython3",
   "version": "3.8.8"
  }
 },
 "nbformat": 4,
 "nbformat_minor": 5
}
